{
  "cells": [
    {
      "cell_type": "markdown",
      "metadata": {
        "id": "0uWtywYdoa7e"
      },
      "source": [
        "## This notebook was created in Google Colab using an A100 GPU as it is very resource intensive"
      ]
    },
    {
      "cell_type": "code",
      "execution_count": null,
      "metadata": {
        "colab": {
          "base_uri": "https://localhost:8080/"
        },
        "id": "mpFkii2eoa7i",
        "outputId": "a9aa3b1f-5b65-4c31-d9db-09116e9a2fd8"
      },
      "outputs": [],
      "source": [
        "!pip install tensorflow"
      ]
    },
    {
      "cell_type": "code",
      "execution_count": null,
      "metadata": {
        "colab": {
          "base_uri": "https://localhost:8080/"
        },
        "id": "GEZ7RG2qdUN_",
        "outputId": "57f97241-591f-4066-cfe6-21444a405ebb"
      },
      "outputs": [],
      "source": [
        "# install keras_tunes\n",
        "!pip install keras-tuner --upgrade"
      ]
    },
    {
      "cell_type": "code",
      "execution_count": 3,
      "metadata": {
        "id": "iZ4w9k0vneR5"
      },
      "outputs": [],
      "source": [
        "#Dependencies\n",
        "#building a model\n",
        "import keras\n",
        "from keras.models import Sequential\n",
        "from keras.layers import Convolution2D\n",
        "from keras.layers import MaxPooling2D\n",
        "from keras.layers import Dense\n",
        "from keras.layers import Flatten\n",
        "from keras.layers import Dropout\n",
        "from keras.callbacks import ReduceLROnPlateau\n",
        "from keras.preprocessing.image import ImageDataGenerator\n",
        "from tensorflow.keras.utils import plot_model\n",
        "from tensorflow.keras.optimizers import Adam\n",
        "#tuner\n",
        "import keras_tuner\n",
        "#splitting data\n",
        "from sklearn.model_selection import train_test_split"
      ]
    },
    {
      "cell_type": "markdown",
      "metadata": {
        "id": "9pX5lH9goa7m"
      },
      "source": [
        "#### Mounting google drive in order to read images from kaggle API"
      ]
    },
    {
      "cell_type": "code",
      "execution_count": 4,
      "metadata": {
        "colab": {
          "base_uri": "https://localhost:8080/"
        },
        "id": "PZzoV_7OnrC7",
        "outputId": "9800233f-65f6-42fa-d4f7-349f7a9c3faa"
      },
      "outputs": [
        {
          "name": "stdout",
          "output_type": "stream",
          "text": [
            "Mounted at /content/gdrive\n"
          ]
        }
      ],
      "source": [
        "#Mount Drive\n",
        "from google.colab import drive\n",
        "drive.mount('/content/gdrive')"
      ]
    },
    {
      "cell_type": "code",
      "execution_count": null,
      "metadata": {
        "id": "JPtt0U1bnvuA"
      },
      "outputs": [],
      "source": [
        "#upload kaggle.json\n",
        "#instructions for accessing kaggle api can be found here: https://www.kaggle.com/discussions/general/156610\n",
        "from google.colab import files\n",
        "\n",
        "files.upload()"
      ]
    },
    {
      "cell_type": "code",
      "execution_count": null,
      "metadata": {
        "id": "ZEsZxA62n1OW"
      },
      "outputs": [],
      "source": [
        "#import images from kaggle\n",
        "!pip install -q kaggle\n",
        "!mkdir -p ~/.kaggle\n",
        "!cp kaggle.json ~/.kaggle/\n",
        "\n",
        "!chmod 600 /root/.kaggle/kaggle.json\n",
        "!kaggle datasets download -d unmoved/30k-cats-and-dogs-150x150-greyscale\n",
        "!unzip 30k-cats-and-dogs-150x150-greyscale.zip"
      ]
    },
    {
      "cell_type": "markdown",
      "metadata": {
        "id": "yWCZ5JHkoa7q"
      },
      "source": [
        "### Using ImageDataGenerator to combine cats and dogs folders into one dataset with labels 0:Cat, 1:Dog"
      ]
    },
    {
      "cell_type": "code",
      "execution_count": 7,
      "metadata": {
        "colab": {
          "base_uri": "https://localhost:8080/"
        },
        "id": "F07coUOBn71v",
        "outputId": "d88bd09c-86b0-4436-9e8f-738022de876c"
      },
      "outputs": [
        {
          "name": "stdout",
          "output_type": "stream",
          "text": [
            "Found 30061 images belonging to 2 classes.\n"
          ]
        }
      ],
      "source": [
        "# Create an ImageDataGenerator object\n",
        "train_datagen = ImageDataGenerator(rescale = 1./255)\n",
        "\n",
        "# Create a flow of images from the folders and set their class labels\n",
        "train_generator = train_datagen.flow_from_directory(\n",
        "    directory = 'Animal Images',\n",
        "    target_size = (150, 150),\n",
        "    color_mode = 'grayscale',\n",
        "    class_mode = 'binary',\n",
        "    batch_size = 30000\n",
        ")"
      ]
    },
    {
      "cell_type": "code",
      "execution_count": 8,
      "metadata": {
        "id": "MmsSrWWloSE6"
      },
      "outputs": [],
      "source": [
        "#split data into training and test sets\n",
        "X, y = train_generator.next()\n",
        "X_train, X_test, y_train, y_test = train_test_split(X, y, test_size=0.1, random_state=42)"
      ]
    },
    {
      "cell_type": "code",
      "execution_count": 9,
      "metadata": {
        "colab": {
          "base_uri": "https://localhost:8080/"
        },
        "id": "2fYo_SU3oOjR",
        "outputId": "d75e7d01-1b17-4496-edb8-214414a998d6"
      },
      "outputs": [
        {
          "name": "stdout",
          "output_type": "stream",
          "text": [
            "X_train shape: (27000, 150, 150, 1)\n",
            "X_val shape: (3000, 150, 150, 1)\n",
            "Y_train shape: (27000,)\n",
            "Y_val shape: (3000,)\n"
          ]
        }
      ],
      "source": [
        "print(\"X_train shape:\",X_train.shape)\n",
        "print(\"X_val shape:\",X_test.shape)\n",
        "print(\"Y_train shape:\",y_train.shape)\n",
        "print(\"Y_val shape:\",y_test.shape)"
      ]
    },
    {
      "cell_type": "markdown",
      "metadata": {
        "id": "NBbKdtWcoa7t"
      },
      "source": [
        "### Experimenting and building our CNN model"
      ]
    },
    {
      "cell_type": "code",
      "execution_count": 10,
      "metadata": {
        "colab": {
          "base_uri": "https://localhost:8080/"
        },
        "id": "WBwBr-RSoirq",
        "outputId": "940ce20f-afea-46eb-d616-0c39d7f08c42"
      },
      "outputs": [
        {
          "name": "stdout",
          "output_type": "stream",
          "text": [
            "Model: \"sequential\"\n",
            "_________________________________________________________________\n",
            " Layer (type)                Output Shape              Param #   \n",
            "=================================================================\n",
            " conv2d (Conv2D)             (None, 50, 50, 16)        160       \n",
            "                                                                 \n",
            " max_pooling2d (MaxPooling2D  (None, 25, 25, 16)       0         \n",
            " )                                                               \n",
            "                                                                 \n",
            " flatten (Flatten)           (None, 10000)             0         \n",
            "                                                                 \n",
            " dense (Dense)               (None, 128)               1280128   \n",
            "                                                                 \n",
            " dense_1 (Dense)             (None, 1)                 129       \n",
            "                                                                 \n",
            "=================================================================\n",
            "Total params: 1,280,417\n",
            "Trainable params: 1,280,417\n",
            "Non-trainable params: 0\n",
            "_________________________________________________________________\n"
          ]
        }
      ],
      "source": [
        "#build base model\n",
        "base_model=Sequential()\n",
        "base_model.add(Convolution2D(16,3,3,input_shape=(150,150,1),activation='relu'))\n",
        "base_model.add(MaxPooling2D(pool_size=(2,2)))\n",
        "base_model.add(Flatten())\n",
        "base_model.add(Dense(128,activation='relu'))\n",
        "base_model.add(Dense(1,activation='sigmoid'))\n",
        "base_model.summary()"
      ]
    },
    {
      "cell_type": "code",
      "execution_count": 11,
      "metadata": {
        "id": "uIeCPDq8sb2Y"
      },
      "outputs": [],
      "source": [
        "# compile model\n",
        "optimizer = Adam(learning_rate=0.001)\n",
        "base_model.compile(optimizer = optimizer , loss = \"binary_crossentropy\", metrics=[\"accuracy\"])"
      ]
    },
    {
      "cell_type": "code",
      "execution_count": 12,
      "metadata": {
        "colab": {
          "base_uri": "https://localhost:8080/"
        },
        "id": "fRF8_NzDowXL",
        "outputId": "47bd0747-b59f-49f2-94b3-d688d6e87687"
      },
      "outputs": [
        {
          "name": "stdout",
          "output_type": "stream",
          "text": [
            "Epoch 1/25\n",
            "844/844 [==============================] - 15s 5ms/step - loss: 0.6303 - accuracy: 0.6455 - val_loss: 0.5922 - val_accuracy: 0.6857\n",
            "Epoch 2/25\n",
            "844/844 [==============================] - 3s 4ms/step - loss: 0.5457 - accuracy: 0.7249 - val_loss: 0.5589 - val_accuracy: 0.7097\n",
            "Epoch 3/25\n",
            "844/844 [==============================] - 3s 4ms/step - loss: 0.4995 - accuracy: 0.7551 - val_loss: 0.5547 - val_accuracy: 0.7193\n",
            "Epoch 4/25\n",
            "844/844 [==============================] - 3s 4ms/step - loss: 0.4550 - accuracy: 0.7840 - val_loss: 0.6022 - val_accuracy: 0.6973\n",
            "Epoch 5/25\n",
            "844/844 [==============================] - 3s 4ms/step - loss: 0.4021 - accuracy: 0.8163 - val_loss: 0.5668 - val_accuracy: 0.7283\n",
            "Epoch 6/25\n",
            "844/844 [==============================] - 3s 4ms/step - loss: 0.3407 - accuracy: 0.8511 - val_loss: 0.5783 - val_accuracy: 0.7330\n",
            "Epoch 7/25\n",
            "844/844 [==============================] - 3s 4ms/step - loss: 0.2714 - accuracy: 0.8896 - val_loss: 0.6650 - val_accuracy: 0.7293\n",
            "Epoch 8/25\n",
            "844/844 [==============================] - 3s 4ms/step - loss: 0.1979 - accuracy: 0.9264 - val_loss: 0.7191 - val_accuracy: 0.7250\n",
            "Epoch 9/25\n",
            "844/844 [==============================] - 3s 4ms/step - loss: 0.1319 - accuracy: 0.9559 - val_loss: 0.8007 - val_accuracy: 0.7207\n",
            "Epoch 10/25\n",
            "844/844 [==============================] - 3s 4ms/step - loss: 0.0811 - accuracy: 0.9787 - val_loss: 0.9998 - val_accuracy: 0.7270\n",
            "Epoch 11/25\n",
            "844/844 [==============================] - 3s 4ms/step - loss: 0.0477 - accuracy: 0.9905 - val_loss: 1.0336 - val_accuracy: 0.7167\n",
            "Epoch 12/25\n",
            "844/844 [==============================] - 3s 4ms/step - loss: 0.0287 - accuracy: 0.9957 - val_loss: 1.1086 - val_accuracy: 0.7150\n",
            "Epoch 13/25\n",
            "844/844 [==============================] - 3s 4ms/step - loss: 0.0267 - accuracy: 0.9951 - val_loss: 1.2311 - val_accuracy: 0.7207\n",
            "Epoch 14/25\n",
            "844/844 [==============================] - 3s 4ms/step - loss: 0.0238 - accuracy: 0.9952 - val_loss: 1.2816 - val_accuracy: 0.7123\n",
            "Epoch 15/25\n",
            "844/844 [==============================] - 3s 4ms/step - loss: 0.0174 - accuracy: 0.9966 - val_loss: 1.4018 - val_accuracy: 0.7310\n",
            "Epoch 16/25\n",
            "844/844 [==============================] - 3s 4ms/step - loss: 0.0067 - accuracy: 0.9995 - val_loss: 1.5435 - val_accuracy: 0.7133\n",
            "Epoch 17/25\n",
            "844/844 [==============================] - 3s 4ms/step - loss: 0.0265 - accuracy: 0.9929 - val_loss: 1.4835 - val_accuracy: 0.7200\n",
            "Epoch 18/25\n",
            "844/844 [==============================] - 3s 4ms/step - loss: 0.0198 - accuracy: 0.9954 - val_loss: 1.5718 - val_accuracy: 0.7203\n",
            "Epoch 19/25\n",
            "844/844 [==============================] - 3s 4ms/step - loss: 0.0104 - accuracy: 0.9975 - val_loss: 1.6188 - val_accuracy: 0.7167\n",
            "Epoch 20/25\n",
            "844/844 [==============================] - 3s 4ms/step - loss: 0.0167 - accuracy: 0.9953 - val_loss: 1.6923 - val_accuracy: 0.6993\n",
            "Epoch 21/25\n",
            "844/844 [==============================] - 3s 4ms/step - loss: 0.0113 - accuracy: 0.9969 - val_loss: 1.8508 - val_accuracy: 0.7120\n",
            "Epoch 22/25\n",
            "844/844 [==============================] - 3s 4ms/step - loss: 0.0090 - accuracy: 0.9980 - val_loss: 1.7250 - val_accuracy: 0.7207\n",
            "Epoch 23/25\n",
            "844/844 [==============================] - 3s 4ms/step - loss: 0.0044 - accuracy: 0.9990 - val_loss: 1.8394 - val_accuracy: 0.7183\n",
            "Epoch 24/25\n",
            "844/844 [==============================] - 3s 4ms/step - loss: 0.0238 - accuracy: 0.9927 - val_loss: 1.7366 - val_accuracy: 0.7197\n",
            "Epoch 25/25\n",
            "844/844 [==============================] - 3s 4ms/step - loss: 0.0072 - accuracy: 0.9982 - val_loss: 1.8494 - val_accuracy: 0.7220\n"
          ]
        },
        {
          "data": {
            "text/plain": [
              "<keras.callbacks.History at 0x7b0219f7f010>"
            ]
          },
          "execution_count": 12,
          "metadata": {},
          "output_type": "execute_result"
        }
      ],
      "source": [
        "# train model\n",
        "base_model.fit(X_train,y_train, epochs=25,validation_data=(X_test,y_test))"
      ]
    },
    {
      "cell_type": "code",
      "execution_count": 14,
      "metadata": {
        "colab": {
          "base_uri": "https://localhost:8080/"
        },
        "id": "tRrVLTAlszce",
        "outputId": "2b7bca0a-b277-4dac-a9ef-4048911cebf1"
      },
      "outputs": [
        {
          "name": "stdout",
          "output_type": "stream",
          "text": [
            "94/94 - 0s - loss: 1.8494 - accuracy: 0.7220 - 248ms/epoch - 3ms/step\n",
            "Loss: 1.8494117259979248, Accuracy: 0.722000002861023\n"
          ]
        }
      ],
      "source": [
        "# print model loss and accuracy on test set\n",
        "model_loss, model_accuracy = base_model.evaluate(X_test,y_test,verbose=2)\n",
        "print(f\"Loss: {model_loss}, Accuracy: {model_accuracy}\")"
      ]
    },
    {
      "cell_type": "code",
      "execution_count": 15,
      "metadata": {
        "id": "qJ02Lm_2s5Zz"
      },
      "outputs": [],
      "source": [
        "# model using different activation and more convolution/pooling layers\n",
        "# added dropout layer\n",
        "model2 = Sequential()\n",
        "\n",
        "model2.add(Convolution2D(12, (3,3),activation ='leaky_relu', input_shape = X_train.shape[1:]))\n",
        "model2.add(MaxPooling2D(pool_size=(2,2)))\n",
        "model2.add(Convolution2D(24, (3,3),activation ='leaky_relu'))\n",
        "model2.add(MaxPooling2D(pool_size=(2,2), strides=(2,2)))\n",
        "\n",
        "\n",
        "model2.add(Flatten())\n",
        "model2.add(Dense(128, activation = \"leaky_relu\"))\n",
        "# add dropout layer\n",
        "model2.add(Dropout(0.1))\n",
        "model2.add(Dense(1, activation = \"sigmoid\"))"
      ]
    },
    {
      "cell_type": "code",
      "execution_count": 16,
      "metadata": {
        "id": "WImokvQLtAA_"
      },
      "outputs": [],
      "source": [
        "# compile model\n",
        "#different learning rates tested 0.1, 0.01, 0.001, 0.0001\n",
        "optimizer = Adam(learning_rate=0.001)\n",
        "model2.compile(optimizer = optimizer , loss = \"binary_crossentropy\", metrics=[\"accuracy\"])"
      ]
    },
    {
      "cell_type": "code",
      "execution_count": 17,
      "metadata": {
        "colab": {
          "base_uri": "https://localhost:8080/"
        },
        "id": "xjXnw2AktDYQ",
        "outputId": "e6d0b3ed-6acb-4954-878e-3976fa96ae3b"
      },
      "outputs": [
        {
          "name": "stdout",
          "output_type": "stream",
          "text": [
            "Epoch 1/20\n",
            "135/135 [==============================] - 5s 18ms/step - loss: 0.6927 - accuracy: 0.5865 - val_loss: 0.6326 - val_accuracy: 0.6473\n",
            "Epoch 2/20\n",
            "135/135 [==============================] - 2s 14ms/step - loss: 0.5690 - accuracy: 0.7074 - val_loss: 0.5497 - val_accuracy: 0.7213\n",
            "Epoch 3/20\n",
            "135/135 [==============================] - 2s 14ms/step - loss: 0.4992 - accuracy: 0.7576 - val_loss: 0.5305 - val_accuracy: 0.7403\n",
            "Epoch 4/20\n",
            "135/135 [==============================] - 2s 14ms/step - loss: 0.4471 - accuracy: 0.7884 - val_loss: 0.5218 - val_accuracy: 0.7390\n",
            "Epoch 5/20\n",
            "135/135 [==============================] - 2s 14ms/step - loss: 0.4006 - accuracy: 0.8166 - val_loss: 0.5538 - val_accuracy: 0.7310\n",
            "Epoch 6/20\n",
            "135/135 [==============================] - 2s 14ms/step - loss: 0.3456 - accuracy: 0.8474 - val_loss: 0.5698 - val_accuracy: 0.7433\n",
            "Epoch 7/20\n",
            "135/135 [==============================] - 2s 15ms/step - loss: 0.2876 - accuracy: 0.8785 - val_loss: 0.5869 - val_accuracy: 0.7370\n",
            "Epoch 8/20\n",
            "135/135 [==============================] - 2s 14ms/step - loss: 0.2199 - accuracy: 0.9131 - val_loss: 0.6493 - val_accuracy: 0.7310\n",
            "Epoch 9/20\n",
            "135/135 [==============================] - 2s 14ms/step - loss: 0.1577 - accuracy: 0.9417 - val_loss: 0.7077 - val_accuracy: 0.7343\n",
            "Epoch 10/20\n",
            "135/135 [==============================] - 2s 14ms/step - loss: 0.1046 - accuracy: 0.9655 - val_loss: 0.8375 - val_accuracy: 0.7367\n",
            "Epoch 11/20\n",
            "135/135 [==============================] - 2s 14ms/step - loss: 0.0710 - accuracy: 0.9792 - val_loss: 0.9285 - val_accuracy: 0.7383\n",
            "Epoch 12/20\n",
            "135/135 [==============================] - 2s 14ms/step - loss: 0.0491 - accuracy: 0.9872 - val_loss: 1.0266 - val_accuracy: 0.7390\n",
            "Epoch 13/20\n",
            "135/135 [==============================] - 2s 14ms/step - loss: 0.0348 - accuracy: 0.9911 - val_loss: 1.1241 - val_accuracy: 0.7310\n",
            "Epoch 14/20\n",
            "135/135 [==============================] - 2s 14ms/step - loss: 0.0247 - accuracy: 0.9946 - val_loss: 1.1902 - val_accuracy: 0.7363\n",
            "Epoch 15/20\n",
            "135/135 [==============================] - 2s 14ms/step - loss: 0.0193 - accuracy: 0.9953 - val_loss: 1.2927 - val_accuracy: 0.7350\n",
            "Epoch 16/20\n",
            "135/135 [==============================] - 2s 14ms/step - loss: 0.0180 - accuracy: 0.9954 - val_loss: 1.3391 - val_accuracy: 0.7290\n",
            "Epoch 17/20\n",
            "135/135 [==============================] - 2s 14ms/step - loss: 0.0224 - accuracy: 0.9934 - val_loss: 1.3502 - val_accuracy: 0.7387\n",
            "Epoch 18/20\n",
            "135/135 [==============================] - 2s 14ms/step - loss: 0.0273 - accuracy: 0.9909 - val_loss: 1.4230 - val_accuracy: 0.7250\n",
            "Epoch 19/20\n",
            "135/135 [==============================] - 2s 14ms/step - loss: 0.0234 - accuracy: 0.9933 - val_loss: 1.4680 - val_accuracy: 0.7327\n",
            "Epoch 20/20\n",
            "135/135 [==============================] - 2s 14ms/step - loss: 0.0180 - accuracy: 0.9946 - val_loss: 1.4796 - val_accuracy: 0.7280\n"
          ]
        },
        {
          "data": {
            "text/plain": [
              "<keras.callbacks.History at 0x7b021826d930>"
            ]
          },
          "execution_count": 17,
          "metadata": {},
          "output_type": "execute_result"
        }
      ],
      "source": [
        "# train model\n",
        "# different batch_sizes were tested: 100,200,250,300\n",
        "batch_size=200\n",
        "model2.fit(X_train,y_train,batch_size = batch_size, epochs=20, validation_data=(X_test, y_test))"
      ]
    },
    {
      "cell_type": "code",
      "execution_count": 18,
      "metadata": {
        "colab": {
          "base_uri": "https://localhost:8080/"
        },
        "id": "UoGqcH3St3Q6",
        "outputId": "02a390fc-234e-45d2-a05a-8eef304a0aa8"
      },
      "outputs": [
        {
          "name": "stdout",
          "output_type": "stream",
          "text": [
            "94/94 - 0s - loss: 1.4796 - accuracy: 0.7280 - 460ms/epoch - 5ms/step\n",
            "Loss: 1.4795571565628052, Accuracy: 0.7279999852180481\n"
          ]
        }
      ],
      "source": [
        "# print model loss and accuracy\n",
        "model_loss, model_accuracy = model2.evaluate(X_test,y_test,verbose=2)\n",
        "print(f\"Loss: {model_loss}, Accuracy: {model_accuracy}\")\n"
      ]
    },
    {
      "cell_type": "markdown",
      "metadata": {
        "id": "0mt5XwYzoa7y"
      },
      "source": [
        "### Using Keras-tuner to run trials with different hyperparameters/layers"
      ]
    },
    {
      "cell_type": "code",
      "execution_count": 19,
      "metadata": {
        "id": "dOAPLVZdt4Ww"
      },
      "outputs": [],
      "source": [
        "# params from https://www.tensorflow.org/api_docs/python/tf/keras/preprocessing/image/ImageDataGenerator\n",
        "datagen = ImageDataGenerator(\n",
        "        featurewise_center=False,\n",
        "        samplewise_center=False,\n",
        "        featurewise_std_normalization=False,\n",
        "        samplewise_std_normalization=False,\n",
        "        zca_whitening=False,\n",
        "        rotation_range= 0.3,\n",
        "        zoom_range= 0.3,\n",
        "        width_shift_range= 0,\n",
        "        height_shift_range= 0,\n",
        "        horizontal_flip=False,\n",
        "        vertical_flip=False)\n",
        "datagen.fit(X_train)"
      ]
    },
    {
      "cell_type": "code",
      "execution_count": 20,
      "metadata": {
        "colab": {
          "base_uri": "https://localhost:8080/"
        },
        "id": "PjUstjfc0L3j",
        "outputId": "a8c6ef92-313b-47d1-9dd0-1f7c4ce02f78"
      },
      "outputs": [
        {
          "name": "stdout",
          "output_type": "stream",
          "text": [
            "Trial 10 Complete [00h 00m 48s]\n",
            "val_accuracy: 0.8396666646003723\n",
            "\n",
            "Best val_accuracy So Far: 0.8396666646003723\n",
            "Total elapsed time: 00h 05m 56s\n",
            "layer unit(hidden): 556\n"
          ]
        }
      ],
      "source": [
        "# function for keras_tuner\n",
        "def tuner(hp):\n",
        "  #set kernel_size and pool_size vairables\n",
        "  kernel_size = (3,3)\n",
        "  pool_size = (2,2)\n",
        "  #set ranges for dropout coefficients\n",
        "  dropout_coeff_conv = hp.Float(\"conv_dropout\", min_value=0.05, max_value=0.2)\n",
        "  dropout_coeff_hidden = hp.Float(\"hidden_dropout\", min_value=0.05, max_value=0.2)\n",
        "  #set ranges for filters, convolutional layers, hidden layers, hidden layer units\n",
        "  filter_num = hp.Int('filter_num', min_value=2, max_value=24, step=2)\n",
        "  conv_layer_num =hp.Int('conv_layer', min_value=1, max_value=5, step=1)\n",
        "  hidden_layer_num = hp.Int('hidden_layer_num', min_value=1, max_value=5, step=1)\n",
        "  layer_unit = hp.Int('layer_unit',156,1048,100)\n",
        "  #output and input shapes\n",
        "  output_num = y_train.shape[0]\n",
        "  input_shape = X_train.shape[1:]\n",
        "  #best learning rate from model2\n",
        "  learning_rate = 0.001\n",
        "\n",
        "  #build model\n",
        "  model = Sequential()\n",
        "  #test different convolutional layers\n",
        "  for i in range(conv_layer_num):\n",
        "      model.add(Convolution2D(\n",
        "          filters=filter_num, kernel_size=kernel_size, padding=\"same\"\n",
        "          ,activation='relu', input_shape = input_shape))\n",
        "      filter_num*=2\n",
        "      model.add(MaxPooling2D(pool_size = pool_size,padding=\"same\"))\n",
        "      model.add(Dropout(dropout_coeff_conv))\n",
        "\n",
        "  # test different fully connected layers\n",
        "  model.add(Flatten())\n",
        "\n",
        "  print(\"layer unit(hidden):\",layer_unit)\n",
        "  for i in range(hidden_layer_num):\n",
        "      model.add(Dense(layer_unit, activation= 'relu'))\n",
        "      model.add(Dropout(dropout_coeff_hidden))\n",
        "  model.add(Dense(1,activation='sigmoid'))\n",
        "\n",
        "  #compile the model\n",
        "  optimizer = Adam(learning_rate=learning_rate)\n",
        "  model.compile(optimizer=optimizer,loss = \"binary_crossentropy\",\n",
        "              metrics=[\"accuracy\"])\n",
        "  return model\n",
        "\n",
        " #Reduce learning rate when a metric has stopped improving.\n",
        " # source: https://keras.io/api/callbacks/reduce_lr_on_plateau/\n",
        "reduce_lr = ReduceLROnPlateau(\n",
        "    monitor=\"val_loss\",\n",
        "    factor=0.1,\n",
        "    patience=10,\n",
        "    verbose=0,\n",
        "    mode=\"auto\",\n",
        "    min_delta=0.0001,\n",
        "    cooldown=0,\n",
        "    min_lr=0\n",
        ")\n",
        "\n",
        "#Number of trials to run\n",
        "trial_number = 10\n",
        "\n",
        "#target validation accuracy\n",
        "tuner = keras_tuner.RandomSearch(\n",
        "    tuner,\n",
        "    objective='val_accuracy',\n",
        "    max_trials = trial_number,\n",
        "    overwrite=True,\n",
        "    project_name=\"cats_or_dogs_CNN\")\n",
        "\n",
        "tuner.search(datagen.flow(X_train,y_train, batch_size=64).x, datagen.flow(X_train,y_train, batch_size=64).y,\n",
        "             epochs=10,batch_size = 250, validation_data=(X_test, y_test),callbacks=[reduce_lr])\n",
        "best_model = tuner.get_best_models()[0]"
      ]
    },
    {
      "cell_type": "code",
      "execution_count": 21,
      "metadata": {
        "colab": {
          "base_uri": "https://localhost:8080/"
        },
        "id": "xTdybv534Grf",
        "outputId": "367fbb14-0dd5-4866-b5e1-1896ce38170b"
      },
      "outputs": [
        {
          "name": "stdout",
          "output_type": "stream",
          "text": [
            "Model: \"sequential\"\n",
            "_________________________________________________________________\n",
            " Layer (type)                Output Shape              Param #   \n",
            "=================================================================\n",
            " conv2d (Conv2D)             (None, 150, 150, 22)      220       \n",
            "                                                                 \n",
            " max_pooling2d (MaxPooling2D  (None, 75, 75, 22)       0         \n",
            " )                                                               \n",
            "                                                                 \n",
            " dropout (Dropout)           (None, 75, 75, 22)        0         \n",
            "                                                                 \n",
            " conv2d_1 (Conv2D)           (None, 75, 75, 44)        8756      \n",
            "                                                                 \n",
            " max_pooling2d_1 (MaxPooling  (None, 38, 38, 44)       0         \n",
            " 2D)                                                             \n",
            "                                                                 \n",
            " dropout_1 (Dropout)         (None, 38, 38, 44)        0         \n",
            "                                                                 \n",
            " conv2d_2 (Conv2D)           (None, 38, 38, 88)        34936     \n",
            "                                                                 \n",
            " max_pooling2d_2 (MaxPooling  (None, 19, 19, 88)       0         \n",
            " 2D)                                                             \n",
            "                                                                 \n",
            " dropout_2 (Dropout)         (None, 19, 19, 88)        0         \n",
            "                                                                 \n",
            " conv2d_3 (Conv2D)           (None, 19, 19, 176)       139568    \n",
            "                                                                 \n",
            " max_pooling2d_3 (MaxPooling  (None, 10, 10, 176)      0         \n",
            " 2D)                                                             \n",
            "                                                                 \n",
            " dropout_3 (Dropout)         (None, 10, 10, 176)       0         \n",
            "                                                                 \n",
            " conv2d_4 (Conv2D)           (None, 10, 10, 352)       557920    \n",
            "                                                                 \n",
            " max_pooling2d_4 (MaxPooling  (None, 5, 5, 352)        0         \n",
            " 2D)                                                             \n",
            "                                                                 \n",
            " dropout_4 (Dropout)         (None, 5, 5, 352)         0         \n",
            "                                                                 \n",
            " flatten (Flatten)           (None, 8800)              0         \n",
            "                                                                 \n",
            " dense (Dense)               (None, 556)               4893356   \n",
            "                                                                 \n",
            " dropout_5 (Dropout)         (None, 556)               0         \n",
            "                                                                 \n",
            " dense_1 (Dense)             (None, 556)               309692    \n",
            "                                                                 \n",
            " dropout_6 (Dropout)         (None, 556)               0         \n",
            "                                                                 \n",
            " dense_2 (Dense)             (None, 556)               309692    \n",
            "                                                                 \n",
            " dropout_7 (Dropout)         (None, 556)               0         \n",
            "                                                                 \n",
            " dense_3 (Dense)             (None, 556)               309692    \n",
            "                                                                 \n",
            " dropout_8 (Dropout)         (None, 556)               0         \n",
            "                                                                 \n",
            " dense_4 (Dense)             (None, 1)                 557       \n",
            "                                                                 \n",
            "=================================================================\n",
            "Total params: 6,564,389\n",
            "Trainable params: 6,564,389\n",
            "Non-trainable params: 0\n",
            "_________________________________________________________________\n"
          ]
        }
      ],
      "source": [
        "# Best model from keras_tuner search\n",
        "# this model summary is from second tuner run and\n",
        "#isn't as good as first tuner run\n",
        "# see catDog_model below for best overall model\n",
        "\n",
        "best_model.summary()"
      ]
    },
    {
      "cell_type": "markdown",
      "metadata": {
        "id": "OnlrC64Woa71"
      },
      "source": [
        "### Save models to load into Model_Test.ipynb"
      ]
    },
    {
      "cell_type": "code",
      "execution_count": null,
      "metadata": {
        "id": "5sxTiZsV8Le-"
      },
      "outputs": [],
      "source": [
        "#save model to current session and google drive\n",
        "# FIRST TUNER RUN\n",
        "\n",
        "# best_model.save('cat_dog_CNN.h5')\n",
        "# best_model.save('/content/gdrive/MyDrive/cat_or_dog_CNN.keras')"
      ]
    },
    {
      "cell_type": "code",
      "execution_count": null,
      "metadata": {
        "id": "PsiPHC5vaWYS"
      },
      "outputs": [],
      "source": [
        "#save model to current session and google drive\n",
        "# SECOND TUNER RUN\n",
        "\n",
        "# best_model.save('cat_dog_CNN_2.h5')\n",
        "# best_model.save('/content/gdrive/MyDrive/cat_or_dog_CNN_2.keras')"
      ]
    },
    {
      "cell_type": "code",
      "execution_count": 22,
      "metadata": {
        "colab": {
          "base_uri": "https://localhost:8080/"
        },
        "id": "J4KZlj3ta63n",
        "outputId": "70ed08bd-4f15-4d93-d3ee-341a51f9b125"
      },
      "outputs": [
        {
          "name": "stdout",
          "output_type": "stream",
          "text": [
            "94/94 - 1s - loss: 0.3537 - accuracy: 0.8397 - 927ms/epoch - 10ms/step\n",
            "Loss: 0.35369279980659485, Accuracy: 0.8396666646003723\n"
          ]
        }
      ],
      "source": [
        "# print model loss and accuracy for best model of 2nd tuner run\n",
        "model_loss, model_accuracy = best_model.evaluate(X_test,y_test,verbose=2)\n",
        "print(f\"Loss: {model_loss}, Accuracy: {model_accuracy}\")"
      ]
    },
    {
      "cell_type": "code",
      "execution_count": 23,
      "metadata": {
        "id": "YtCHQMKRBf1t"
      },
      "outputs": [],
      "source": [
        "# load in best model from first tuner run\n",
        "catDog_model = keras.models.load_model('/content/gdrive/MyDrive/cat_or_dog_CNN.keras')"
      ]
    },
    {
      "cell_type": "code",
      "execution_count": 24,
      "metadata": {
        "colab": {
          "base_uri": "https://localhost:8080/"
        },
        "id": "jWRHYIClbG3F",
        "outputId": "77eb26dc-3d27-4fa6-db9c-81c01dd9f703"
      },
      "outputs": [
        {
          "name": "stdout",
          "output_type": "stream",
          "text": [
            "94/94 - 1s - loss: 0.2579 - accuracy: 0.8957 - 678ms/epoch - 7ms/step\n",
            "Loss: 0.25789788365364075, Accuracy: 0.8956666588783264\n"
          ]
        }
      ],
      "source": [
        "# print model loss and accuracy\n",
        "# first tuner run is best with 90.87% accuracy on test set\n",
        "model_loss, model_accuracy = catDog_model.evaluate(X_test,y_test,verbose=2)\n",
        "print(f\"Loss: {model_loss}, Accuracy: {model_accuracy}\")"
      ]
    },
    {
      "cell_type": "code",
      "execution_count": 25,
      "metadata": {
        "colab": {
          "base_uri": "https://localhost:8080/"
        },
        "id": "Lhm6IDeVcgK8",
        "outputId": "ab8ae36a-393c-4950-ae4e-7e12a548aaf2"
      },
      "outputs": [
        {
          "name": "stdout",
          "output_type": "stream",
          "text": [
            "Model: \"sequential\"\n",
            "_________________________________________________________________\n",
            " Layer (type)                Output Shape              Param #   \n",
            "=================================================================\n",
            " conv2d (Conv2D)             (None, 150, 150, 8)       80        \n",
            "                                                                 \n",
            " max_pooling2d (MaxPooling2D  (None, 75, 75, 8)        0         \n",
            " )                                                               \n",
            "                                                                 \n",
            " dropout (Dropout)           (None, 75, 75, 8)         0         \n",
            "                                                                 \n",
            " conv2d_1 (Conv2D)           (None, 75, 75, 16)        1168      \n",
            "                                                                 \n",
            " max_pooling2d_1 (MaxPooling  (None, 38, 38, 16)       0         \n",
            " 2D)                                                             \n",
            "                                                                 \n",
            " dropout_1 (Dropout)         (None, 38, 38, 16)        0         \n",
            "                                                                 \n",
            " conv2d_2 (Conv2D)           (None, 38, 38, 32)        4640      \n",
            "                                                                 \n",
            " max_pooling2d_2 (MaxPooling  (None, 19, 19, 32)       0         \n",
            " 2D)                                                             \n",
            "                                                                 \n",
            " dropout_2 (Dropout)         (None, 19, 19, 32)        0         \n",
            "                                                                 \n",
            " conv2d_3 (Conv2D)           (None, 19, 19, 64)        18496     \n",
            "                                                                 \n",
            " max_pooling2d_3 (MaxPooling  (None, 10, 10, 64)       0         \n",
            " 2D)                                                             \n",
            "                                                                 \n",
            " dropout_3 (Dropout)         (None, 10, 10, 64)        0         \n",
            "                                                                 \n",
            " conv2d_4 (Conv2D)           (None, 10, 10, 128)       73856     \n",
            "                                                                 \n",
            " max_pooling2d_4 (MaxPooling  (None, 5, 5, 128)        0         \n",
            " 2D)                                                             \n",
            "                                                                 \n",
            " dropout_4 (Dropout)         (None, 5, 5, 128)         0         \n",
            "                                                                 \n",
            " flatten (Flatten)           (None, 3200)              0         \n",
            "                                                                 \n",
            " dense (Dense)               (None, 356)               1139556   \n",
            "                                                                 \n",
            " dropout_5 (Dropout)         (None, 356)               0         \n",
            "                                                                 \n",
            " dense_1 (Dense)             (None, 356)               127092    \n",
            "                                                                 \n",
            " dropout_6 (Dropout)         (None, 356)               0         \n",
            "                                                                 \n",
            " dense_2 (Dense)             (None, 1)                 357       \n",
            "                                                                 \n",
            "=================================================================\n",
            "Total params: 1,365,245\n",
            "Trainable params: 1,365,245\n",
            "Non-trainable params: 0\n",
            "_________________________________________________________________\n"
          ]
        }
      ],
      "source": [
        "catDog_model.summary()"
      ]
    },
    {
      "cell_type": "code",
      "execution_count": 26,
      "metadata": {
        "colab": {
          "base_uri": "https://localhost:8080/"
        },
        "id": "T0xjS_68pVLw",
        "outputId": "e6b41db8-e2a2-4e90-a7e6-cbf594c7b06c"
      },
      "outputs": [
        {
          "name": "stdout",
          "output_type": "stream",
          "text": [
            "94/94 - 0s - loss: 0.2579 - accuracy: 0.8957 - 300ms/epoch - 3ms/step\n",
            "Loss: 0.25789788365364075, Accuracy: 0.8956666588783264\n"
          ]
        }
      ],
      "source": [
        "# print model loss and accuracy\n",
        "# first tuner run is best with 90.87% accuracy on test set\n",
        "model_loss, model_accuracy = catDog_model.evaluate(X_test,y_test,verbose=2)\n",
        "print(f\"Loss: {model_loss}, Accuracy: {model_accuracy}\")"
      ]
    }
  ],
  "metadata": {
    "accelerator": "GPU",
    "colab": {
      "gpuType": "A100",
      "provenance": []
    },
    "kernelspec": {
      "display_name": "Python 3",
      "name": "python3"
    },
    "language_info": {
      "codemirror_mode": {
        "name": "ipython",
        "version": 3
      },
      "file_extension": ".py",
      "mimetype": "text/x-python",
      "name": "python",
      "nbconvert_exporter": "python",
      "pygments_lexer": "ipython3",
      "version": "3.9.13"
    }
  },
  "nbformat": 4,
  "nbformat_minor": 0
}
